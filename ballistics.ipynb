import numpy as np
import scipy as sp
import sympy as sym
import matplotlib.pyplot as plt
